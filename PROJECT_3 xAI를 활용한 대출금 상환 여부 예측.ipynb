{
 "cells": [
  {
   "cell_type": "markdown",
   "metadata": {},
   "source": [
    "### Q. 어떤 요소가 대출금 상황 여부에 큰 영향을 줄까?"
   ]
  },
  {
   "cell_type": "code",
   "execution_count": 46,
   "metadata": {},
   "outputs": [],
   "source": [
    "import pandas as pd\n",
    "import os"
   ]
  },
  {
   "cell_type": "code",
   "execution_count": 47,
   "metadata": {},
   "outputs": [],
   "source": [
    "os.chdir(r'C:\\Users\\hjb38\\Documents\\데이터 분석 과정\\data\\credit_data')"
   ]
  },
  {
   "cell_type": "code",
   "execution_count": 48,
   "metadata": {},
   "outputs": [],
   "source": [
    "train = pd.read_csv('train.csv')\n",
    "test = pd.read_csv('test.csv')\n",
    "lb = pd.read_csv('loan_before.csv')"
   ]
  },
  {
   "cell_type": "code",
   "execution_count": 49,
   "metadata": {},
   "outputs": [
    {
     "data": {
      "text/plain": [
       "Index(['SK_ID_CURR', 'TARGET', 'CODE_GENDER', 'FLAG_OWN_CAR',\n",
       "       'FLAG_OWN_REALTY', 'CNT_CHILDREN', 'AMT_INCOME_TOTAL', 'AMT_CREDIT',\n",
       "       'AMT_ANNUITY', 'NAME_TYPE_SUITE', 'NAME_INCOME_TYPE',\n",
       "       'NAME_EDUCATION_TYPE', 'NAME_HOUSING_TYPE',\n",
       "       'REGION_POPULATION_RELATIVE', 'DAYS_BIRTH', 'DAYS_EMPLOYED',\n",
       "       'DAYS_ID_PUBLISH', 'OWN_CAR_AGE', 'CNT_FAM_MEMBERS',\n",
       "       'HOUR_APPR_PROCESS_START', 'ORGANIZATION_TYPE', 'EXT_SOURCE_1',\n",
       "       'EXT_SOURCE_2', 'EXT_SOURCE_3', 'DAYS_LAST_PHONE_CHANGE',\n",
       "       'AMT_REQ_CREDIT_BUREAU_YEAR'],\n",
       "      dtype='object')"
      ]
     },
     "execution_count": 49,
     "metadata": {},
     "output_type": "execute_result"
    }
   ],
   "source": [
    "train.columns"
   ]
  },
  {
   "cell_type": "markdown",
   "metadata": {},
   "source": [
    "# 1. 문제정의"
   ]
  },
  {
   "cell_type": "markdown",
   "metadata": {},
   "source": [
    "질문 1 : 어떤 요소가 대출금 상황 여부에 큰 영향을 줄까?\n",
    "\n",
    "질문 2 : 그 요소들이 상환 여부에 어떤 영향을 줄까?"
   ]
  },
  {
   "cell_type": "markdown",
   "metadata": {},
   "source": [
    "# 2. 방법론"
   ]
  },
  {
   "cell_type": "markdown",
   "metadata": {},
   "source": [
    "## 2.1. 분석과정\n",
    "\n",
    "이 질문에 대한 해답을 얻기 위해 아래와 '해석 가능한 머신러닝(xAI)'를 활용하였다."
   ]
  },
  {
   "cell_type": "markdown",
   "metadata": {},
   "source": [
    "### 2.1.1 프로세스\n",
    "\n",
    "1단계 : feature engineering을 한다.<br>\n",
    "2단계 : 머신러닝 모델을 만든다.<br>\n",
    "3단계 : shap value를 통해 어떤 변수가 가장 큰 영향을 주는지 알아본다.<br>\n",
    "4단계 : 영향을 가장 많이 주는 5개의 변수와 대출금 상환 여부와의 관계를 살펴본다."
   ]
  },
  {
   "cell_type": "markdown",
   "metadata": {},
   "source": [
    "## 2.2 Feature Engineering"
   ]
  },
  {
   "cell_type": "markdown",
   "metadata": {},
   "source": [
    "### 2.2.1  AMT_CREDIT 에서 AMT_ANNUITY 을 나눠, 행당 사람이 몇 개월에 걸쳐 돈을 갚아야 하는지 변수화 한다.\n",
    "- AMT_CREDIT : 총 대출금액\n",
    "- AMT_ANNUITY : 매달 갚아야 하는 금액"
   ]
  },
  {
   "cell_type": "code",
   "execution_count": 50,
   "metadata": {},
   "outputs": [
    {
     "data": {
      "text/html": [
       "<div>\n",
       "<style scoped>\n",
       "    .dataframe tbody tr th:only-of-type {\n",
       "        vertical-align: middle;\n",
       "    }\n",
       "\n",
       "    .dataframe tbody tr th {\n",
       "        vertical-align: top;\n",
       "    }\n",
       "\n",
       "    .dataframe thead th {\n",
       "        text-align: right;\n",
       "    }\n",
       "</style>\n",
       "<table border=\"1\" class=\"dataframe\">\n",
       "  <thead>\n",
       "    <tr style=\"text-align: right;\">\n",
       "      <th></th>\n",
       "      <th>SK_ID_CURR</th>\n",
       "      <th>TARGET</th>\n",
       "      <th>CODE_GENDER</th>\n",
       "      <th>FLAG_OWN_CAR</th>\n",
       "      <th>FLAG_OWN_REALTY</th>\n",
       "      <th>CNT_CHILDREN</th>\n",
       "      <th>AMT_INCOME_TOTAL</th>\n",
       "      <th>AMT_CREDIT</th>\n",
       "      <th>AMT_ANNUITY</th>\n",
       "      <th>NAME_TYPE_SUITE</th>\n",
       "      <th>...</th>\n",
       "      <th>DAYS_ID_PUBLISH</th>\n",
       "      <th>OWN_CAR_AGE</th>\n",
       "      <th>CNT_FAM_MEMBERS</th>\n",
       "      <th>HOUR_APPR_PROCESS_START</th>\n",
       "      <th>ORGANIZATION_TYPE</th>\n",
       "      <th>EXT_SOURCE_1</th>\n",
       "      <th>EXT_SOURCE_2</th>\n",
       "      <th>EXT_SOURCE_3</th>\n",
       "      <th>DAYS_LAST_PHONE_CHANGE</th>\n",
       "      <th>AMT_REQ_CREDIT_BUREAU_YEAR</th>\n",
       "    </tr>\n",
       "  </thead>\n",
       "  <tbody>\n",
       "    <tr>\n",
       "      <th>0</th>\n",
       "      <td>162716</td>\n",
       "      <td>0</td>\n",
       "      <td>0.0</td>\n",
       "      <td>0</td>\n",
       "      <td>1</td>\n",
       "      <td>0</td>\n",
       "      <td>101250.0</td>\n",
       "      <td>480060.0</td>\n",
       "      <td>22509.0</td>\n",
       "      <td>Unaccompanied</td>\n",
       "      <td>...</td>\n",
       "      <td>-2256</td>\n",
       "      <td>NaN</td>\n",
       "      <td>2.0</td>\n",
       "      <td>15</td>\n",
       "      <td>Kindergarten</td>\n",
       "      <td>NaN</td>\n",
       "      <td>0.665732</td>\n",
       "      <td>NaN</td>\n",
       "      <td>-139.0</td>\n",
       "      <td>1.0</td>\n",
       "    </tr>\n",
       "    <tr>\n",
       "      <th>1</th>\n",
       "      <td>361317</td>\n",
       "      <td>0</td>\n",
       "      <td>0.0</td>\n",
       "      <td>0</td>\n",
       "      <td>1</td>\n",
       "      <td>2</td>\n",
       "      <td>225000.0</td>\n",
       "      <td>237024.0</td>\n",
       "      <td>12231.0</td>\n",
       "      <td>Unaccompanied</td>\n",
       "      <td>...</td>\n",
       "      <td>-4133</td>\n",
       "      <td>NaN</td>\n",
       "      <td>4.0</td>\n",
       "      <td>3</td>\n",
       "      <td>Business Entity Type 3</td>\n",
       "      <td>0.575699</td>\n",
       "      <td>0.535140</td>\n",
       "      <td>0.670652</td>\n",
       "      <td>-957.0</td>\n",
       "      <td>0.0</td>\n",
       "    </tr>\n",
       "    <tr>\n",
       "      <th>2</th>\n",
       "      <td>246925</td>\n",
       "      <td>0</td>\n",
       "      <td>1.0</td>\n",
       "      <td>0</td>\n",
       "      <td>0</td>\n",
       "      <td>0</td>\n",
       "      <td>171000.0</td>\n",
       "      <td>247675.5</td>\n",
       "      <td>26005.5</td>\n",
       "      <td>Unaccompanied</td>\n",
       "      <td>...</td>\n",
       "      <td>-4340</td>\n",
       "      <td>NaN</td>\n",
       "      <td>2.0</td>\n",
       "      <td>10</td>\n",
       "      <td>Business Entity Type 3</td>\n",
       "      <td>0.092273</td>\n",
       "      <td>0.002272</td>\n",
       "      <td>0.154744</td>\n",
       "      <td>-827.0</td>\n",
       "      <td>1.0</td>\n",
       "    </tr>\n",
       "    <tr>\n",
       "      <th>3</th>\n",
       "      <td>294331</td>\n",
       "      <td>0</td>\n",
       "      <td>1.0</td>\n",
       "      <td>1</td>\n",
       "      <td>0</td>\n",
       "      <td>0</td>\n",
       "      <td>225000.0</td>\n",
       "      <td>180000.0</td>\n",
       "      <td>9000.0</td>\n",
       "      <td>Unaccompanied</td>\n",
       "      <td>...</td>\n",
       "      <td>-1621</td>\n",
       "      <td>12.0</td>\n",
       "      <td>2.0</td>\n",
       "      <td>12</td>\n",
       "      <td>Trade: type 7</td>\n",
       "      <td>0.221815</td>\n",
       "      <td>0.120444</td>\n",
       "      <td>NaN</td>\n",
       "      <td>-569.0</td>\n",
       "      <td>2.0</td>\n",
       "    </tr>\n",
       "    <tr>\n",
       "      <th>4</th>\n",
       "      <td>152173</td>\n",
       "      <td>0</td>\n",
       "      <td>0.0</td>\n",
       "      <td>0</td>\n",
       "      <td>1</td>\n",
       "      <td>0</td>\n",
       "      <td>180000.0</td>\n",
       "      <td>337500.0</td>\n",
       "      <td>12852.0</td>\n",
       "      <td>Unaccompanied</td>\n",
       "      <td>...</td>\n",
       "      <td>-2870</td>\n",
       "      <td>NaN</td>\n",
       "      <td>1.0</td>\n",
       "      <td>12</td>\n",
       "      <td>XNA</td>\n",
       "      <td>NaN</td>\n",
       "      <td>0.722415</td>\n",
       "      <td>0.723837</td>\n",
       "      <td>-1544.0</td>\n",
       "      <td>4.0</td>\n",
       "    </tr>\n",
       "  </tbody>\n",
       "</table>\n",
       "<p>5 rows × 26 columns</p>\n",
       "</div>"
      ],
      "text/plain": [
       "   SK_ID_CURR  TARGET  CODE_GENDER  FLAG_OWN_CAR  FLAG_OWN_REALTY  \\\n",
       "0      162716       0          0.0             0                1   \n",
       "1      361317       0          0.0             0                1   \n",
       "2      246925       0          1.0             0                0   \n",
       "3      294331       0          1.0             1                0   \n",
       "4      152173       0          0.0             0                1   \n",
       "\n",
       "   CNT_CHILDREN  AMT_INCOME_TOTAL  AMT_CREDIT  AMT_ANNUITY NAME_TYPE_SUITE  \\\n",
       "0             0          101250.0    480060.0      22509.0   Unaccompanied   \n",
       "1             2          225000.0    237024.0      12231.0   Unaccompanied   \n",
       "2             0          171000.0    247675.5      26005.5   Unaccompanied   \n",
       "3             0          225000.0    180000.0       9000.0   Unaccompanied   \n",
       "4             0          180000.0    337500.0      12852.0   Unaccompanied   \n",
       "\n",
       "   ... DAYS_ID_PUBLISH OWN_CAR_AGE CNT_FAM_MEMBERS  HOUR_APPR_PROCESS_START  \\\n",
       "0  ...           -2256         NaN             2.0                       15   \n",
       "1  ...           -4133         NaN             4.0                        3   \n",
       "2  ...           -4340         NaN             2.0                       10   \n",
       "3  ...           -1621        12.0             2.0                       12   \n",
       "4  ...           -2870         NaN             1.0                       12   \n",
       "\n",
       "        ORGANIZATION_TYPE  EXT_SOURCE_1  EXT_SOURCE_2  EXT_SOURCE_3  \\\n",
       "0            Kindergarten           NaN      0.665732           NaN   \n",
       "1  Business Entity Type 3      0.575699      0.535140      0.670652   \n",
       "2  Business Entity Type 3      0.092273      0.002272      0.154744   \n",
       "3           Trade: type 7      0.221815      0.120444           NaN   \n",
       "4                     XNA           NaN      0.722415      0.723837   \n",
       "\n",
       "   DAYS_LAST_PHONE_CHANGE  AMT_REQ_CREDIT_BUREAU_YEAR  \n",
       "0                  -139.0                         1.0  \n",
       "1                  -957.0                         0.0  \n",
       "2                  -827.0                         1.0  \n",
       "3                  -569.0                         2.0  \n",
       "4                 -1544.0                         4.0  \n",
       "\n",
       "[5 rows x 26 columns]"
      ]
     },
     "execution_count": 50,
     "metadata": {},
     "output_type": "execute_result"
    }
   ],
   "source": [
    "train.head()"
   ]
  },
  {
   "cell_type": "code",
   "execution_count": 51,
   "metadata": {},
   "outputs": [],
   "source": [
    "# 몇 달동안 갚아야하는지 알기 위한 새로운 변수 만들기\n",
    "\n",
    "train['AMT_CREDIT_TO_ANNUITY_RATIO']=train['AMT_CREDIT']/train['AMT_ANNUITY']\n",
    "test['AMT_CREDIT_TO_ANNUITY_RATIO']=test['AMT_CREDIT']/test['AMT_ANNUITY']"
   ]
  },
  {
   "cell_type": "code",
   "execution_count": 52,
   "metadata": {},
   "outputs": [
    {
     "data": {
      "text/html": [
       "<div>\n",
       "<style scoped>\n",
       "    .dataframe tbody tr th:only-of-type {\n",
       "        vertical-align: middle;\n",
       "    }\n",
       "\n",
       "    .dataframe tbody tr th {\n",
       "        vertical-align: top;\n",
       "    }\n",
       "\n",
       "    .dataframe thead th {\n",
       "        text-align: right;\n",
       "    }\n",
       "</style>\n",
       "<table border=\"1\" class=\"dataframe\">\n",
       "  <thead>\n",
       "    <tr style=\"text-align: right;\">\n",
       "      <th></th>\n",
       "      <th>SK_ID_CURR</th>\n",
       "      <th>DAYS_CREDIT</th>\n",
       "      <th>CNT_CREDIT_PROLONG</th>\n",
       "      <th>AMT_CREDIT_SUM</th>\n",
       "      <th>CREDIT_TYPE</th>\n",
       "    </tr>\n",
       "  </thead>\n",
       "  <tbody>\n",
       "    <tr>\n",
       "      <th>0</th>\n",
       "      <td>400486</td>\n",
       "      <td>-2413</td>\n",
       "      <td>0</td>\n",
       "      <td>180000.0</td>\n",
       "      <td>Consumer credit</td>\n",
       "    </tr>\n",
       "    <tr>\n",
       "      <th>1</th>\n",
       "      <td>400486</td>\n",
       "      <td>-941</td>\n",
       "      <td>0</td>\n",
       "      <td>40500.0</td>\n",
       "      <td>Credit card</td>\n",
       "    </tr>\n",
       "    <tr>\n",
       "      <th>2</th>\n",
       "      <td>400486</td>\n",
       "      <td>-1110</td>\n",
       "      <td>0</td>\n",
       "      <td>114727.5</td>\n",
       "      <td>Consumer credit</td>\n",
       "    </tr>\n",
       "    <tr>\n",
       "      <th>3</th>\n",
       "      <td>400486</td>\n",
       "      <td>-2133</td>\n",
       "      <td>0</td>\n",
       "      <td>225000.0</td>\n",
       "      <td>Consumer credit</td>\n",
       "    </tr>\n",
       "    <tr>\n",
       "      <th>4</th>\n",
       "      <td>400486</td>\n",
       "      <td>-391</td>\n",
       "      <td>0</td>\n",
       "      <td>142290.0</td>\n",
       "      <td>Consumer credit</td>\n",
       "    </tr>\n",
       "  </tbody>\n",
       "</table>\n",
       "</div>"
      ],
      "text/plain": [
       "   SK_ID_CURR  DAYS_CREDIT  CNT_CREDIT_PROLONG  AMT_CREDIT_SUM  \\\n",
       "0      400486        -2413                   0        180000.0   \n",
       "1      400486         -941                   0         40500.0   \n",
       "2      400486        -1110                   0        114727.5   \n",
       "3      400486        -2133                   0        225000.0   \n",
       "4      400486         -391                   0        142290.0   \n",
       "\n",
       "       CREDIT_TYPE  \n",
       "0  Consumer credit  \n",
       "1      Credit card  \n",
       "2  Consumer credit  \n",
       "3  Consumer credit  \n",
       "4  Consumer credit  "
      ]
     },
     "execution_count": 52,
     "metadata": {},
     "output_type": "execute_result"
    }
   ],
   "source": [
    "lb.head()\n",
    "# 같은 사람(SK_ID_CURR)이 여러개의 행에 걸쳐있다.\n",
    "# -> 한 사람이 여러번의 대출을 받아서 값이 여러개 생긴 것."
   ]
  },
  {
   "cell_type": "code",
   "execution_count": 53,
   "metadata": {},
   "outputs": [
    {
     "data": {
      "text/html": [
       "<div>\n",
       "<style scoped>\n",
       "    .dataframe tbody tr th:only-of-type {\n",
       "        vertical-align: middle;\n",
       "    }\n",
       "\n",
       "    .dataframe tbody tr th {\n",
       "        vertical-align: top;\n",
       "    }\n",
       "\n",
       "    .dataframe thead th {\n",
       "        text-align: right;\n",
       "    }\n",
       "</style>\n",
       "<table border=\"1\" class=\"dataframe\">\n",
       "  <thead>\n",
       "    <tr style=\"text-align: right;\">\n",
       "      <th></th>\n",
       "      <th>SK_ID_CURR</th>\n",
       "      <th>AMT_CREDIT_SUM</th>\n",
       "    </tr>\n",
       "  </thead>\n",
       "  <tbody>\n",
       "    <tr>\n",
       "      <th>0</th>\n",
       "      <td>100026</td>\n",
       "      <td>1.875000e+06</td>\n",
       "    </tr>\n",
       "    <tr>\n",
       "      <th>1</th>\n",
       "      <td>100041</td>\n",
       "      <td>6.325424e+04</td>\n",
       "    </tr>\n",
       "    <tr>\n",
       "      <th>2</th>\n",
       "      <td>100084</td>\n",
       "      <td>9.810000e+04</td>\n",
       "    </tr>\n",
       "    <tr>\n",
       "      <th>3</th>\n",
       "      <td>100088</td>\n",
       "      <td>3.555000e+05</td>\n",
       "    </tr>\n",
       "    <tr>\n",
       "      <th>4</th>\n",
       "      <td>100100</td>\n",
       "      <td>6.327487e+05</td>\n",
       "    </tr>\n",
       "    <tr>\n",
       "      <th>...</th>\n",
       "      <td>...</td>\n",
       "      <td>...</td>\n",
       "    </tr>\n",
       "    <tr>\n",
       "      <th>25707</th>\n",
       "      <td>456153</td>\n",
       "      <td>1.627073e+05</td>\n",
       "    </tr>\n",
       "    <tr>\n",
       "      <th>25708</th>\n",
       "      <td>456212</td>\n",
       "      <td>2.726224e+05</td>\n",
       "    </tr>\n",
       "    <tr>\n",
       "      <th>25709</th>\n",
       "      <td>456238</td>\n",
       "      <td>1.849170e+05</td>\n",
       "    </tr>\n",
       "    <tr>\n",
       "      <th>25710</th>\n",
       "      <td>456253</td>\n",
       "      <td>9.900000e+05</td>\n",
       "    </tr>\n",
       "    <tr>\n",
       "      <th>25711</th>\n",
       "      <td>456255</td>\n",
       "      <td>3.456290e+05</td>\n",
       "    </tr>\n",
       "  </tbody>\n",
       "</table>\n",
       "<p>25712 rows × 2 columns</p>\n",
       "</div>"
      ],
      "text/plain": [
       "       SK_ID_CURR  AMT_CREDIT_SUM\n",
       "0          100026    1.875000e+06\n",
       "1          100041    6.325424e+04\n",
       "2          100084    9.810000e+04\n",
       "3          100088    3.555000e+05\n",
       "4          100100    6.327487e+05\n",
       "...           ...             ...\n",
       "25707      456153    1.627073e+05\n",
       "25708      456212    2.726224e+05\n",
       "25709      456238    1.849170e+05\n",
       "25710      456253    9.900000e+05\n",
       "25711      456255    3.456290e+05\n",
       "\n",
       "[25712 rows x 2 columns]"
      ]
     },
     "execution_count": 53,
     "metadata": {},
     "output_type": "execute_result"
    }
   ],
   "source": [
    "# SK_ID_CURR을 그룹핑 한 뒤 해당 ID인 사람이 받은 대출들의 평균을 알아보자\n",
    "\n",
    "lb.groupby(['SK_ID_CURR'])['AMT_CREDIT_SUM'].mean().reset_index()\n",
    "\n",
    "# reset_index() 를 통해 데이터프레임 형태로 변환"
   ]
  },
  {
   "cell_type": "markdown",
   "metadata": {},
   "source": [
    "### 2.2.2 lb(이전 대출정보가 기록된 데이터)를 활용해 새 변수 생성\n",
    "\n",
    "<strong>1. groupby 후 평균 내기</strong>(사람 id로 그룹핑 후 각 변수의 평균을 냄)\n",
    "- AMT_CREDIT_SUM : 이전 대출의 금액\n",
    "- DAYS_CREDIT : train, test로부터 며칠 전에 이전 대출을 진행했는지\n",
    "- CNT_CREDIT_PROLONG : 대출연장을 한 횟수\n",
    "\n",
    "<strong>2. groupby 후 횟수 확인</strong>(사람 id별로의 빈도수, 해당 사람이 이전에 대출을 몇 번 진행했는지 확인)"
   ]
  },
  {
   "cell_type": "code",
   "execution_count": 54,
   "metadata": {},
   "outputs": [],
   "source": [
    "# train/test 데이터와 위 데이터 합치기 (SK_ID_CURR 컬럼을 기준으로)\n",
    "\n",
    "train = pd.merge(train, lb.groupby(['SK_ID_CURR'])['AMT_CREDIT_SUM'].mean().reset_index(), \n",
    "                 on = 'SK_ID_CURR', how = 'left')\n",
    "test = pd.merge(train, lb.groupby(['SK_ID_CURR'])['AMT_CREDIT_SUM'].mean().reset_index(), \n",
    "                 on = 'SK_ID_CURR', how = 'left')"
   ]
  },
  {
   "cell_type": "code",
   "execution_count": 55,
   "metadata": {},
   "outputs": [],
   "source": [
    "# DAYS_CREDIT 과 CNT_CREDIT_PROLONG 컬럼도 평균을 계산해서 같이 넣어보자.\n",
    "\n",
    "train = pd.merge(train, lb.groupby(['SK_ID_CURR'])['DAYS_CREDIT'].mean().reset_index(), \n",
    "                 on = 'SK_ID_CURR', how = 'left')\n",
    "test = pd.merge(train, lb.groupby(['SK_ID_CURR'])['DAYS_CREDIT'].mean().reset_index(), \n",
    "                 on = 'SK_ID_CURR', how = 'left')\n",
    "\n",
    "train = pd.merge(train, lb.groupby(['SK_ID_CURR'])['CNT_CREDIT_PROLONG'].mean().reset_index(), \n",
    "                 on = 'SK_ID_CURR', how = 'left')\n",
    "test = pd.merge(train, lb.groupby(['SK_ID_CURR'])['CNT_CREDIT_PROLONG'].mean().reset_index(), \n",
    "                 on = 'SK_ID_CURR', how = 'left')"
   ]
  },
  {
   "cell_type": "code",
   "execution_count": 56,
   "metadata": {},
   "outputs": [],
   "source": [
    "# 같은 SK_ID_CURR 를 가진 사람이 몇 번의 대출을 받았는가?\n",
    "\n",
    "# groupby.size()를 하면 몇 개의 데이터를 그룹핑 했는지 보여준다.\n",
    "# rename(columns={'':''})으로 컬럼의 이름도 바꿔준다.\n",
    "\n",
    "# 이후 pd.merge로 합쳐주고 다시 train/test 데이터에 넣는다.\n",
    "\n",
    "train = pd.merge(train, lb.groupby(['SK_ID_CURR']).size().reset_index().rename(columns={0:'count'}),\n",
    "                on = 'SK_ID_CURR', how = 'left')\n",
    "\n",
    "test = pd.merge(test, lb.groupby(['SK_ID_CURR']).size().reset_index().rename(columns={0:'count'}),\n",
    "                on = 'SK_ID_CURR', how = 'left')"
   ]
  },
  {
   "cell_type": "markdown",
   "metadata": {},
   "source": [
    "### 2.2.3 해석에 방해되는 불필요한 변수 제거"
   ]
  },
  {
   "cell_type": "code",
   "execution_count": 57,
   "metadata": {},
   "outputs": [
    {
     "data": {
      "text/plain": [
       "SK_ID_CURR                       int64\n",
       "TARGET                           int64\n",
       "CODE_GENDER                    float64\n",
       "FLAG_OWN_CAR                     int64\n",
       "FLAG_OWN_REALTY                  int64\n",
       "CNT_CHILDREN                     int64\n",
       "AMT_INCOME_TOTAL               float64\n",
       "AMT_CREDIT                     float64\n",
       "AMT_ANNUITY                    float64\n",
       "NAME_TYPE_SUITE                 object\n",
       "NAME_INCOME_TYPE                object\n",
       "NAME_EDUCATION_TYPE             object\n",
       "NAME_HOUSING_TYPE               object\n",
       "REGION_POPULATION_RELATIVE     float64\n",
       "DAYS_BIRTH                       int64\n",
       "DAYS_EMPLOYED                  float64\n",
       "DAYS_ID_PUBLISH                  int64\n",
       "OWN_CAR_AGE                    float64\n",
       "CNT_FAM_MEMBERS                float64\n",
       "HOUR_APPR_PROCESS_START          int64\n",
       "ORGANIZATION_TYPE               object\n",
       "EXT_SOURCE_1                   float64\n",
       "EXT_SOURCE_2                   float64\n",
       "EXT_SOURCE_3                   float64\n",
       "DAYS_LAST_PHONE_CHANGE         float64\n",
       "AMT_REQ_CREDIT_BUREAU_YEAR     float64\n",
       "AMT_CREDIT_TO_ANNUITY_RATIO    float64\n",
       "AMT_CREDIT_SUM                 float64\n",
       "DAYS_CREDIT                    float64\n",
       "CNT_CREDIT_PROLONG             float64\n",
       "count                          float64\n",
       "dtype: object"
      ]
     },
     "execution_count": 57,
     "metadata": {},
     "output_type": "execute_result"
    }
   ],
   "source": [
    "train.dtypes"
   ]
  },
  {
   "cell_type": "code",
   "execution_count": 58,
   "metadata": {},
   "outputs": [],
   "source": [
    "# 범주형 데이터 및 겉보기엔 수치형이지만 그 의미는 범주형인 데이터(ex. 남자0, 여자1) 제거\n",
    "# EXT_SOURCE_1/2/3 는 수치형이 맞지만, 데이터 자체에 대한 정보가 부족하므로 제거\n",
    "\n",
    "del_list = ['CODE_GENDER', 'FLAG_OWN_CAR', 'NAME_TYPE_SUITE', 'NAME_INCOME_TYPE', 'NAME_EDUCATION_TYPE', 'NAME_HOUSING_TYPE', 'ORGANIZATION_TYPE', \n",
    "            'EXT_SOURCE_1', 'EXT_SOURCE_2', 'EXT_SOURCE_3']\n",
    "\n",
    "train = train.drop(del_list, axis=1)  # axis=1 은 컬럼, 0은 행을 뜻함\n",
    "test = test.drop(del_list, axis=1)"
   ]
  },
  {
   "cell_type": "code",
   "execution_count": 59,
   "metadata": {},
   "outputs": [
    {
     "data": {
      "text/plain": [
       "SK_ID_CURR                       int64\n",
       "TARGET                           int64\n",
       "FLAG_OWN_REALTY                  int64\n",
       "CNT_CHILDREN                     int64\n",
       "AMT_INCOME_TOTAL               float64\n",
       "AMT_CREDIT                     float64\n",
       "AMT_ANNUITY                    float64\n",
       "REGION_POPULATION_RELATIVE     float64\n",
       "DAYS_BIRTH                       int64\n",
       "DAYS_EMPLOYED                  float64\n",
       "DAYS_ID_PUBLISH                  int64\n",
       "OWN_CAR_AGE                    float64\n",
       "CNT_FAM_MEMBERS                float64\n",
       "HOUR_APPR_PROCESS_START          int64\n",
       "DAYS_LAST_PHONE_CHANGE         float64\n",
       "AMT_REQ_CREDIT_BUREAU_YEAR     float64\n",
       "AMT_CREDIT_TO_ANNUITY_RATIO    float64\n",
       "AMT_CREDIT_SUM                 float64\n",
       "DAYS_CREDIT                    float64\n",
       "CNT_CREDIT_PROLONG             float64\n",
       "count                          float64\n",
       "dtype: object"
      ]
     },
     "execution_count": 59,
     "metadata": {},
     "output_type": "execute_result"
    }
   ],
   "source": [
    "train.dtypes"
   ]
  },
  {
   "cell_type": "code",
   "execution_count": null,
   "metadata": {},
   "outputs": [],
   "source": []
  }
 ],
 "metadata": {
  "kernelspec": {
   "display_name": "Python 3",
   "language": "python",
   "name": "python3"
  },
  "language_info": {
   "codemirror_mode": {
    "name": "ipython",
    "version": 3
   },
   "file_extension": ".py",
   "mimetype": "text/x-python",
   "name": "python",
   "nbconvert_exporter": "python",
   "pygments_lexer": "ipython3",
   "version": "3.8.5"
  }
 },
 "nbformat": 4,
 "nbformat_minor": 4
}
